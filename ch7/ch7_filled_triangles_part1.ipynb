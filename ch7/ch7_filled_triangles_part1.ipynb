{
 "cells": [
  {
   "cell_type": "markdown",
   "id": "e6a504b5",
   "metadata": {},
   "source": [
    "$FILLED  TRIANGLES$\n"
   ]
  },
  {
   "cell_type": "markdown",
   "id": "762c8329",
   "metadata": {},
   "source": [
    "이전까지는 간단한 도형들을 켄버스에 올려서 그리는 코드를 작성하였다.\n",
    "\n",
    "putpixel과 수식을 이용한 간단한 알고리즘을 제작하기도 하였다.\n",
    "\n",
    "이번 챕터에서는 삼각형을 그리기 위해 수식을 사용한 알고리즘을 작성하기로한다."
   ]
  },
  {
   "cell_type": "code",
   "execution_count": 16,
   "id": "02c4c75f",
   "metadata": {},
   "outputs": [],
   "source": [
    "import numpy as np\n",
    "import math\n",
    "import cv2\n",
    "import matplotlib.pyplot as plt\n",
    "\n",
    "class Point:\n",
    "    def __init__(self, x, y, h=1.0, color=[255,255,255]):\n",
    "        self.x = x\n",
    "        self.y = y\n",
    "        self.h = h\n",
    "        self.color = color\n",
    "\n",
    "class Canvas:\n",
    "    def __init__(self,\n",
    "                 width=600, \n",
    "                 height=600):\n",
    "        self.width = width\n",
    "        self.height = height\n",
    "        self.img = np.zeros((width,height,3), dtype = np.uint8) + 255\n",
    "        \n",
    "    def put_pixel(self, x, y, color,line_width):\n",
    "        x = self.width/2 + x\n",
    "        y = self.height/2 - y -1\n",
    "        if (x< 0 or x >= self.width or y < 0 or y >= self.height):\n",
    "            return \n",
    "        R = int(color[0])\n",
    "        G = int(color[1])\n",
    "        B = int(color[2])\n",
    "        cv2.line(self.img, (int(x), int(y)), (int(x), int(y)), (R,G,B),line_width)\n",
    "        \n",
    "    def interpolate(self, i0, d0,i1, d1): #보간\n",
    "        if i0==i1:\n",
    "            return [d0]\n",
    "        else:\n",
    "            values = []\n",
    "            a = (d1-d0) / (i1 - i0)\n",
    "            d = d0\n",
    "            for i in range(i1 - i0+1):\n",
    "                values.append(d)\n",
    "                d += a\n",
    "            return values\n",
    "        \n",
    "    def draw_line(self, p0, p1, color, line_width):\n",
    "        if np.abs(p0.x - p1.x) > abs(p0.y - p1.y):\n",
    "            # line is horizontal-ish\n",
    "            if p0.x > p1.x:\n",
    "                p0, p1 = p1, p0\n",
    "            ys = self.interpolate(p0.x, p0.y, p1.x, p1.y)\n",
    "            for i in range(p1.x-p0.x+1):\n",
    "                self.put_pixel(i+p0.x, ys[i], color, line_width)\n",
    "        else:\n",
    "            if p0.y > p1.y:\n",
    "                p0, p1 = p1, p0\n",
    "            xs = self.interpolate(p0.y,p0.x,p1.y,p1.x)\n",
    "            for i in range(p1.y-p0.y+1):\n",
    "                self.put_pixel(xs[i], i+p0.y, color, line_width)\n",
    "                \n",
    "    def draw_wireframe_triangle(self, p0, p1, p2, color, line_width):\n",
    "        self.draw_line(p0, p1, color, line_width)\n",
    "        self.draw_line(p1, p2, color, line_width)\n",
    "        self.draw_line(p2, p0, color, line_width)\n",
    "    "
   ]
  },
  {
   "cell_type": "code",
   "execution_count": 25,
   "id": "fe526cae",
   "metadata": {},
   "outputs": [
    {
     "data": {
      "text/plain": [
       "<matplotlib.image.AxesImage at 0x125d0782c70>"
      ]
     },
     "execution_count": 25,
     "metadata": {},
     "output_type": "execute_result"
    },
    {
     "data": {
      "image/png": "[encoded data removed]",
      "text/plain": [
       "<Figure size 432x288 with 1 Axes>"
      ]
     },
     "metadata": {
      "needs_background": "light"
     },
     "output_type": "display_data"
    }
   ],
   "source": [
    "canvas1 = Canvas(1000,1000)\n",
    "point1 = Point(-200, -250)\n",
    "point2 = Point(200, 50)\n",
    "point3 = Point(20, 250)\n",
    "\n",
    "canvas1.draw_wireframe_triangle(point1, point2, point3, [0,0,0], 2)\n",
    "\n",
    "plt.imshow(canvas1.img)"
   ]
  },
  {
   "cell_type": "markdown",
   "id": "7af90784",
   "metadata": {},
   "source": [
    "삼각형의 3 점들을 위 아래로 나누는 코드를 추가한다.\n",
    "\n",
    "y축을 기준으로 점들을 배열한다. \n",
    "\n",
    "항상 P0이 삼각형의 가장 낮은 점이고 P2가 가장 높은 점이라고 가정하기 때문에 가능한 모든 순서를 처리할 필요는 없다."
   ]
  },
  {
   "cell_type": "code",
   "execution_count": 36,
   "id": "e7690f6e",
   "metadata": {},
   "outputs": [],
   "source": [
    "import numpy as np\n",
    "import math\n",
    "import cv2\n",
    "import matplotlib.pyplot as plt\n",
    "\n",
    "class Point:\n",
    "    def __init__(self, x, y, h=1.0, color=[255,255,255]):\n",
    "        self.x = x\n",
    "        self.y = y\n",
    "        self.h = h\n",
    "        self.color = color\n",
    "\n",
    "class Canvas:\n",
    "    def __init__(self,\n",
    "                 width=600, \n",
    "                 height=600):\n",
    "        self.width = width\n",
    "        self.height = height\n",
    "        \n",
    "        self.img = np.zeros((width,height,3), dtype = np.uint8) + 255\n",
    "        \n",
    "    def put_pixel(self, x, y, color,line_width):\n",
    "        x = self.width/2 + x\n",
    "        y = self.height/2 - y -1\n",
    "        if (x< 0 or x >= self.width or y < 0 or y >= self.height):\n",
    "            return \n",
    "        R = int(color[0])\n",
    "        G = int(color[1])\n",
    "        B = int(color[2])\n",
    "        cv2.line(self.img, (int(x), int(y)), (int(x), int(y)), (R,G,B),line_width)\n",
    "        \n",
    "    def interpolate(self, i0, d0,i1, d1):\n",
    "        if i0==i1:\n",
    "            return [d0]\n",
    "        else:\n",
    "            values = []\n",
    "            a = (d1-d0) / (i1 - i0)\n",
    "            d = d0\n",
    "            for i in range(i1 - i0+1):\n",
    "                values.append(d)\n",
    "                d += a\n",
    "            return values\n",
    "        \n",
    "    def draw_line(self, p0, p1, color, line_width):\n",
    "        if np.abs(p0.x - p1.x) > abs(p0.y - p1.y):\n",
    "            # line is horizontal-ish\n",
    "            if p0.x > p1.x:\n",
    "                p0, p1 = p1, p0\n",
    "            \n",
    "            ys = self.interpolate(p0.x,p0.y,p1.x,p1.y)\n",
    "\n",
    "            for i in range(p1.x-p0.x+1):\n",
    "                self.put_pixel(i+p0.x,ys[i],color,line_width)\n",
    "                    \n",
    "        else:\n",
    "            # line is vertical-ish\n",
    "                        # line is horizontal-ish\n",
    "            if p0.y > p1.y:\n",
    "                p0, p1 = p1, p0\n",
    "            \n",
    "            xs = self.interpolate(p0.y,p0.x,p1.y,p1.x)\n",
    "            for i in range(p1.y-p0.y+1):\n",
    "                self.put_pixel(xs[i], i+p0.y, color, line_width)\n",
    "                \n",
    "    def draw_wireframe_triangle(self, p0, p1, p2, color, line_width):\n",
    "        self.draw_line(p0, p1, color, line_width)\n",
    "        self.draw_line(p1, p2, color, line_width)\n",
    "        self.draw_line(p2, p0, color, line_width)\n",
    "    \n",
    "    def draw_filled_trangle(self, p0, p1, p2, color, line_width):\n",
    "        if p1.y < p0.y:\n",
    "            p0, p1 = p1, p0\n",
    "        if p2.y < p0.y:\n",
    "            p0, p2 = p2, p0\n",
    "        if p2.y < p1.y:\n",
    "            p2, p1 = p1, p2\n",
    "            \n",
    "        x01 = self.interpolate(p0.y, p0.x, p1.y, p1.x)\n",
    "        x12 = self.interpolate(p1.y, p1.x, p2.y, p2.x)\n",
    "        x02 = self.interpolate(p0.y, p0.x, p2.y, p2.x)\n",
    "    \n",
    "           "
   ]
  },
  {
   "cell_type": "code",
   "execution_count": 37,
   "id": "81a8615e",
   "metadata": {},
   "outputs": [
    {
     "data": {
      "text/plain": [
       "<matplotlib.image.AxesImage at 0x125d1e64bb0>"
      ]
     },
     "execution_count": 37,
     "metadata": {},
     "output_type": "execute_result"
    },
    {
     "data": {
      "image/png": "[encoded data removed]",
      "text/plain": [
       "<Figure size 432x288 with 1 Axes>"
      ]
     },
     "metadata": {
      "needs_background": "light"
     },
     "output_type": "display_data"
    }
   ],
   "source": [
    "canvas1 = Canvas(600,600)\n",
    "point1 = Point(-200, -250)\n",
    "point2 = Point(200, 50)\n",
    "point3 = Point(20, 250)\n",
    "\n",
    "canvas1.draw_wireframe_triangle(point1, point2, point3, [0,0,0], 2)\n",
    "canvas1.draw_filled_trangle(point5, point6, point7, [0,255,0], 1)\n",
    "\n",
    "plt.imshow(canvas1.img)"
   ]
  },
  {
   "cell_type": "code",
   "execution_count": null,
   "id": "24f4449f",
   "metadata": {},
   "outputs": [],
   "source": []
  }
 ],
 "metadata": {
  "kernelspec": {
   "display_name": "Python 3",
   "language": "python",
   "name": "python3"
  },
  "language_info": {
   "codemirror_mode": {
    "name": "ipython",
    "version": 3
   },
   "file_extension": ".py",
   "mimetype": "text/x-python",
   "name": "python",
   "nbconvert_exporter": "python",
   "pygments_lexer": "ipython3",
   "version": "3.8.8"
  }
 },
 "nbformat": 4,
 "nbformat_minor": 5
}
