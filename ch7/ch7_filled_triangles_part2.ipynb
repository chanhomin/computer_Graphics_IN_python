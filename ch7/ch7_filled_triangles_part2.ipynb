{
 "cells": [
  {
   "cell_type": "markdown",
   "id": "c8b3b550",
   "metadata": {},
   "source": [
    "# Drawing Filled Triangles_2"
   ]
  },
  {
   "attachments": {
    "image.png": {
     "image/png": "[encoded data removed]"
    }
   },
   "cell_type": "markdown",
   "id": "f6e44153",
   "metadata": {},
   "source": [
    "![image.png](attachment:image.png)"
   ]
  },
  {
   "cell_type": "markdown",
   "id": "d863e036",
   "metadata": {},
   "source": [
    "삼각형에 색을 채우는 과정\n",
    "1) y값을 비교하여 아래서부터 [$p_0$, $p_2$] 순으로 재배열한다.\n",
    "\n",
    "2) interpolate를 활용하여 y값에 대한 x값을 구한다.\n",
    "\n",
    "3) 두 짧은 변의 배열을 연결한다.\n",
    "\n",
    "4) x_left와 x_right를 판별한다.\n",
    "\n",
    "5) 삼각형 그리기"
   ]
  },
  {
   "cell_type": "code",
   "execution_count": 31,
   "id": "6e35eb37",
   "metadata": {},
   "outputs": [],
   "source": [
    "import numpy as np\n",
    "import math\n",
    "import cv2\n",
    "import matplotlib.pyplot as plt"
   ]
  },
  {
   "cell_type": "code",
   "execution_count": 43,
   "id": "5329f351",
   "metadata": {},
   "outputs": [],
   "source": [
    "class Point:\n",
    "    def __init__(self, x, y, h, color=[255,255,255]):\n",
    "        self.x = x\n",
    "        self.y = y\n",
    "        self.h = h\n",
    "        self.color = color\n",
    "\n",
    "class Canvas:\n",
    "    def __init__(self,\n",
    "                 width=600, \n",
    "                 height=600):\n",
    "        self.width = width\n",
    "        self.height = height\n",
    "        \n",
    "        self.img = np.zeros((width,height,3), dtype = np.uint8) + 255\n",
    "        \n",
    "    def put_pixel(self, x, y, color,line_width):\n",
    "        x = self.width/2 + x\n",
    "        y = self.height/2 - y -1\n",
    "        if (x< 0 or x >= self.width or y < 0 or y >= self.height):\n",
    "            return \n",
    "        R = int(color[0])\n",
    "        G = int(color[1])\n",
    "        B = int(color[2])\n",
    "        cv2.line(self.img, (int(x), int(y)), (int(x), int(y)), (R,G,B),line_width)\n",
    "        \n",
    "    def draw_line(self, p0, p1, color, line_width):\n",
    "        if np.abs(p0.x - p1.x) > abs(p0.y - p1.y):\n",
    "            # line is horizontal-ish\n",
    "            if p0.x > p1.x:\n",
    "                p0, p1 = p1, p0\n",
    "            \n",
    "            ys = self.interpolate(p0.x,p0.y,p1.x,p1.y)\n",
    "\n",
    "            for i in range(p1.x-p0.x+1):\n",
    "                self.put_pixel(i+p0.x,ys[i],color,line_width)\n",
    "                    \n",
    "        else:\n",
    "            # line is vertical-ish\n",
    "                        # line is horizontal-ish\n",
    "            if p0.y > p1.y:\n",
    "                p0, p1 = p1, p0\n",
    "            \n",
    "            xs = self.interpolate(p0.y,p0.x,p1.y,p1.x)\n",
    "            for i in range(p1.y-p0.y+1):\n",
    "                self.put_pixel(xs[i], i+p0.y, color, line_width)\n",
    "                \n",
    "    \n",
    "    def interpolate(self, i0, d0,i1, d1):\n",
    "        if i0==i1:\n",
    "            return [d0]\n",
    "        else:\n",
    "            values = []\n",
    "            \n",
    "            a = (d1-d0) / (i1 - i0)\n",
    "            d = d0\n",
    "            \n",
    "            for i in range(i1 - i0+1):\n",
    "                values.append(d)\n",
    "                d += a\n",
    "            return values\n",
    "        \n",
    "    def draw_wireframe_triangle(self, p0, p1, p2, color, line_width):\n",
    "        self.draw_line(p0, p1, color, line_width)\n",
    "        self.draw_line(p1, p2, color, line_width)\n",
    "        self.draw_line(p0, p2, color, line_width)\n",
    "        \n",
    "    def draw_filled_triangle(self, p0, p1, p2, color, line_width):\n",
    "        # Sort the points so that y0 <= y1 <= y2\n",
    "        if p1.y < p0.y:\n",
    "            p1, p0 = p0, p1\n",
    "        if p2.y < p0.y:\n",
    "            p2, p0 = p0, p2\n",
    "        if p2.y < p1.y:\n",
    "            p1, p2 = p2, p1\n",
    "        \n",
    "        # Compute the x coordinates of the triangle edges\n",
    "        x01 = self.interpolate(p0.y, p0.x, p1.y, p1.x)\n",
    "        x12 = self.interpolate(p1.y, p1.x, p2.y, p2.x)\n",
    "        x02 = self.interpolate(p0.y, p0.x, p2.y, p2.x)\n",
    "        \n",
    "        # Concatenate the short sides\n",
    "        x01.pop(-1)\n",
    "        x012 = x01 + x12\n",
    "        \n",
    "        # Determine which is left and which is right\n",
    "        m = math.floor(len(x012)/2)\n",
    "        if x02[m] < x012[m]:\n",
    "            x_left = x02\n",
    "            x_right= x012\n",
    "        else:\n",
    "            x_left = x012\n",
    "            x_right = x02\n",
    "            \n",
    "        # Draw the horizontal segments\n",
    "        for y in range(p0.y,p2.y):\n",
    "            x_left_value = math.floor(x_left[y-p0.y])\n",
    "            x_right_value = math.floor(x_right[y-p0.y])\n",
    "            for x in range(x_left_value, x_right_value+1):\n",
    "                self.put_pixel(x,y,color,line_width)\n"
   ]
  },
  {
   "cell_type": "code",
   "execution_count": 52,
   "id": "7a5fe243",
   "metadata": {},
   "outputs": [
    {
     "data": {
      "text/plain": [
       "<matplotlib.image.AxesImage at 0x1ae984700a0>"
      ]
     },
     "execution_count": 52,
     "metadata": {},
     "output_type": "execute_result"
    },
    {
     "data": {
      "image/png": "[encoded data removed]",
      "text/plain": [
       "<Figure size 432x288 with 1 Axes>"
      ]
     },
     "metadata": {
      "needs_background": "light"
     },
     "output_type": "display_data"
    }
   ],
   "source": [
    "canvas = Canvas(600,600)\n",
    "point1 = Point(-200, -250, h = 0.0)\n",
    "point2 = Point(200, 50, h = 0.0)\n",
    "point3 = Point(20, 250, h = 0.0)\n",
    "\n",
    "canvas.draw_wireframe_triangle(point1, point2, point3, [0,0,0], 2)\n",
    "canvas.draw_filled_triangle(point1, point2, point3, [0,255,0], 1)\n",
    "\n",
    "plt.imshow(canvas.img)"
   ]
  }
 ],
 "metadata": {
  "kernelspec": {
   "display_name": "Python 3",
   "language": "python",
   "name": "python3"
  },
  "language_info": {
   "codemirror_mode": {
    "name": "ipython",
    "version": 3
   },
   "file_extension": ".py",
   "mimetype": "text/x-python",
   "name": "python",
   "nbconvert_exporter": "python",
   "pygments_lexer": "ipython3",
   "version": "3.8.8"
  }
 },
 "nbformat": 4,
 "nbformat_minor": 5
}
